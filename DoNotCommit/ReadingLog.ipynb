{
 "cells": [
  {
   "cell_type": "markdown",
   "id": "6229bff6-9cb3-4769-b061-2d31aba16c80",
   "metadata": {},
   "source": [
    "Notes: some of this is based off of AO3Scraper by radiolarian@git"
   ]
  },
  {
   "cell_type": "markdown",
   "id": "dd349a75-0eb7-419d-8bb1-3edda62b055d",
   "metadata": {},
   "source": [
    "## Import libraries"
   ]
  },
  {
   "cell_type": "code",
   "execution_count": 1,
   "id": "6888ec69-bf0a-4d14-b05b-54d265ab00ad",
   "metadata": {},
   "outputs": [],
   "source": [
    "import requests\n",
    "from bs4 import BeautifulSoup\n",
    "import argparse\n",
    "import time\n",
    "import os\n",
    "import csv\n",
    "import sys\n",
    "from unidecode import unidecode\n",
    "\n",
    "import warnings\n",
    "warnings.simplefilter('ignore')\n"
   ]
  },
  {
   "cell_type": "markdown",
   "id": "1fec089f-7c25-4067-a796-e0e0c693b42d",
   "metadata": {},
   "source": [
    "We ultimately want the following fields:\n",
    "author\n",
    "title\n",
    "word count\n",
    "tags\n",
    "date published(?)\n",
    "\n",
    "and from tags we want:\n",
    "fandom\n",
    "pairing\n",
    "possibly guess at genre, otherwise leave as unknown"
   ]
  },
  {
   "cell_type": "markdown",
   "id": "26d8a5d5-2b2b-4ee2-acb0-cad39005b373",
   "metadata": {},
   "source": [
    "## Functions for extracting tags and stats, having already extracted the html from the page\n"
   ]
  },
  {
   "cell_type": "code",
   "execution_count": 2,
   "id": "50aad986-f95c-418b-b288-f7669aa77de3",
   "metadata": {},
   "outputs": [],
   "source": [
    "# error handling taken from ao3 scraper\n",
    "\n",
    "def access_denied(soup):\n",
    "    if (soup.find(class_=\"flash error\")):\n",
    "        return True\n",
    "    if (not soup.find(class_=\"work meta group\")):\n",
    "        if soup.find(\"h3\",class_=\"heading\").text==\"Sorry!\":\n",
    "            print(\"This content is restricted to logged in users only\")\n",
    "        return True\n",
    "    \n",
    "    return False"
   ]
  },
  {
   "cell_type": "code",
   "execution_count": 3,
   "id": "075f46ae-5b09-4894-9025-e38c6b5e2275",
   "metadata": {},
   "outputs": [],
   "source": [
    "#taken from ao3 scraper\n",
    "def get_tag_info(category, meta):\n",
    "\t'''\n",
    "\tgiven a category and a 'work meta group, returns a list of tags (eg, 'rating' -> 'explicit')\n",
    "\t'''\n",
    "\ttry:\n",
    "\t\ttag_list = meta.find(\"dd\", class_=str(category) + ' tags').find_all(class_=\"tag\")\n",
    "\texcept AttributeError as e:\n",
    "\t\treturn []\n",
    "\treturn [unidecode(result.text) for result in tag_list] "
   ]
  },
  {
   "cell_type": "code",
   "execution_count": 77,
   "id": "2fba7f2d-7a05-4b67-8240-218c64332a1f",
   "metadata": {},
   "outputs": [],
   "source": [
    "def get_meta_info(fic_id,soup):\n",
    "    #will return a dictionary with author title word count tags date published(?)\n",
    "    # and from tags we want: fandom pairing characters\n",
    "    #tags = ['rating', 'category', 'fandom', 'relationship', 'character', 'freeform']\n",
    "    #categories = ['language', 'published', 'status', 'words', 'chapters', 'comments', 'kudos', 'bookmarks', 'hits'] \n",
    "    \n",
    "    #categories of info we want\n",
    "    work_id_names=['fic_id']\n",
    "    headmeta_names=['author','title']\n",
    "    stat_names=['words','published','status','chapters']\n",
    "    tag_names=['rating','category','fandom','relationship','character','warning','freeform']\n",
    "    #dictionary with categories as keys\n",
    "    meta_dict=dict.fromkeys(work_id_names,headmeta_names+stat_names+tag_names)\n",
    "\n",
    "\n",
    "    #get the work meta and the heading/preface meta from the soup\n",
    "    meta = soup.find(\"dl\", class_=\"work meta group\")\n",
    "    headmeta=soup.find(\"div\",class_=\"preface group\")\n",
    "\n",
    "    #add the fic id as a field\n",
    "    meta_dict['fic_id']=fic_id\n",
    "\n",
    "    #get the author and title\n",
    "    meta_dict['author'] = [tag.contents[0] for tag in headmeta.find(\"h3\", class_=\"byline heading\").contents if tag.name=='a'] #may be multiple authors\n",
    "    meta_dict['title']= unidecode(headmeta.find(\"h2\", class_=\"title heading\").string).strip()\n",
    "\n",
    "    # get the info for listed stats\n",
    "    for stat in stat_names:\n",
    "        if stat=='status':\n",
    "            if meta.find(\"dt\",class_=stat):\n",
    "                meta_dict[stat]='Completed' if unidecode(meta.find(\"dt\",class_=stat).text)=='Completed' else ('Updated: '+unidecode(meta.find(\"dd\",class_=stat).text))\n",
    "            else:\n",
    "                meta_dict[stat]='oneshot'\n",
    "        else:\n",
    "            meta_dict[stat] = unidecode(meta.find(\"dd\",class_=stat).text)\n",
    "\n",
    "    \n",
    "    \n",
    "    #get the info for listed tags\n",
    "    for cat in tag_names:\n",
    "        meta_dict[cat]=get_tag_info(cat,meta)\n",
    "\n",
    "    return meta_dict"
   ]
  },
  {
   "cell_type": "code",
   "execution_count": 78,
   "id": "bf3bdeaa-506e-4d43-ae15-f22cab532d77",
   "metadata": {},
   "outputs": [],
   "source": [
    "def scrape_from_ao3(fic_id):\n",
    "    print('Scraping:', fic_id)\n",
    "    url = 'http://archiveofourown.org/works/'+str(fic_id)+'?view_adult=true'\n",
    "    print(url)\n",
    "    print(\"getting arguments\")\n",
    "    fic_ids, csv_out, headers, restart, is_csv, only_first_chap, lang, include_bookmarks, metadata_only = get_args()\n",
    "    \n",
    "    req = requests.get(url, headers={'User-Agent':'Chrome'})\n",
    "    req=requests.get(url)\n",
    "    src = req.text\n",
    "    if req.status_code>=400:\n",
    "        print(\"Error scraping fic_id:\", fic_id, \" and now exiting\")\n",
    "        return None\n",
    "    \n",
    "    soup = BeautifulSoup(src, 'html.parser')\n",
    "    \n",
    "    if (access_denied(soup)):\n",
    "        print('Access Denied')\n",
    "        return None\n",
    "    \n",
    "    print(\"Getting Info\")\n",
    "    meta_dict=get_meta_info(fic_id,soup)\n",
    "\n",
    "    return meta_dict"
   ]
  },
  {
   "cell_type": "code",
   "execution_count": 26,
   "id": "ca232583-fea8-4036-a368-22d57aae8391",
   "metadata": {},
   "outputs": [],
   "source": [
    "def get_args(): \n",
    "\tparser = argparse.ArgumentParser(description='Scrape and save some fanfic, given their AO3 IDs.')\n",
    "\tparser.add_argument(\n",
    "\t\t'ids', metavar='IDS', nargs='+',\n",
    "\t\thelp='a single id, a space seperated list of ids, or a csv input filename')\n",
    "\tparser.add_argument(\n",
    "\t\t'--csv', default='fanfics.csv',\n",
    "\t\thelp='csv output file name')\n",
    "\tparser.add_argument(\n",
    "\t\t'--header', default='',\n",
    "\t\thelp='user http header')\n",
    "\tparser.add_argument(\n",
    "\t\t'--restart', default='', \n",
    "\t\thelp='work_id to start at from within a csv')\n",
    "\tparser.add_argument(\n",
    "\t\t'--firstchap', default='', \n",
    "\t\thelp='only retrieve first chapter of multichapter fics')\n",
    "\tparser.add_argument(\n",
    "\t\t'--lang', default='', \n",
    "\t\thelp='only retrieves fics of certain language (e.g English), make sure you use correct spelling and capitalization or this argument will not work')\n",
    "\tparser.add_argument(\n",
    "\t\t'--bookmarks', action='store_true',\n",
    "\t\thelp='retrieve bookmarks; ')\n",
    "\tparser.add_argument(\n",
    "\t\t'--metadata-only', action='store_true',\n",
    "\t\thelp='only retrieve metadata')\n",
    "\targs,unknown=parser.parse_known_args()\n",
    "\tfic_ids = args.ids\n",
    "\tis_csv = (len(fic_ids) == 1 and '.csv' in fic_ids[0]) \n",
    "\tcsv_out = str(args.csv)\n",
    "\theaders = str(args.header)\n",
    "\trestart = str(args.restart)\n",
    "\tofc = str(args.firstchap)\n",
    "\tlang = str(args.lang)\n",
    "\tinclude_bookmarks = args.bookmarks\n",
    "\tmetadata_only = args.metadata_only\n",
    "\tif ofc != \"\":\n",
    "\t\tofc = True\n",
    "\telse:\n",
    "\t\tofc = False\n",
    "\tif lang == \"\":\n",
    "\t\tlang = False\n",
    "\treturn fic_ids, csv_out, headers, restart, is_csv, ofc, lang, include_bookmarks, metadata_only\n"
   ]
  },
  {
   "cell_type": "code",
   "execution_count": 30,
   "id": "3cbec329-9fa3-4647-9561-fa5bf219bc2e",
   "metadata": {},
   "outputs": [],
   "source": []
  },
  {
   "cell_type": "code",
   "execution_count": 28,
   "id": "91417a20-2144-42fb-8e9a-f4be88c686c4",
   "metadata": {
    "collapsed": true,
    "jupyter": {
     "outputs_hidden": true
    }
   },
   "outputs": [
    {
     "name": "stdout",
     "output_type": "stream",
     "text": [
      "Scraping: 33751156\n",
      "http://archiveofourown.org/works/33751156?view_adult=true\n"
     ]
    },
    {
     "ename": "KeyboardInterrupt",
     "evalue": "",
     "output_type": "error",
     "traceback": [
      "\u001b[0;31m---------------------------------------------------------------------------\u001b[0m",
      "\u001b[0;31mKeyboardInterrupt\u001b[0m                         Traceback (most recent call last)",
      "Cell \u001b[0;32mIn[28], line 7\u001b[0m\n\u001b[1;32m      4\u001b[0m fic_id\u001b[38;5;241m=\u001b[39m\u001b[38;5;241m33751156\u001b[39m \u001b[38;5;66;03m#utsdih\u001b[39;00m\n\u001b[1;32m      5\u001b[0m \u001b[38;5;66;03m#fic_id=12005586 #rwm\u001b[39;00m\n\u001b[1;32m      6\u001b[0m \u001b[38;5;66;03m# ahot https://archiveofourown.org/works/30248028\u001b[39;00m\n\u001b[0;32m----> 7\u001b[0m scrape_from_ao3(fic_id)\n",
      "Cell \u001b[0;32mIn[7], line 6\u001b[0m, in \u001b[0;36mscrape_from_ao3\u001b[0;34m(fic_id)\u001b[0m\n\u001b[1;32m      4\u001b[0m \u001b[38;5;28mprint\u001b[39m(url)\n\u001b[1;32m      5\u001b[0m \u001b[38;5;66;03m#req = requests.get(url, headers=headers)\u001b[39;00m\n\u001b[0;32m----> 6\u001b[0m req\u001b[38;5;241m=\u001b[39mrequests\u001b[38;5;241m.\u001b[39mget(url)\n\u001b[1;32m      7\u001b[0m src \u001b[38;5;241m=\u001b[39m req\u001b[38;5;241m.\u001b[39mtext\n\u001b[1;32m      8\u001b[0m \u001b[38;5;28;01mif\u001b[39;00m req\u001b[38;5;241m.\u001b[39mstatus_code\u001b[38;5;241m>\u001b[39m\u001b[38;5;241m=\u001b[39m\u001b[38;5;241m400\u001b[39m:\n",
      "File \u001b[0;32m~/anaconda3/envs/stats/lib/python3.12/site-packages/requests/api.py:73\u001b[0m, in \u001b[0;36mget\u001b[0;34m(url, params, **kwargs)\u001b[0m\n\u001b[1;32m     62\u001b[0m \u001b[38;5;28;01mdef\u001b[39;00m \u001b[38;5;21mget\u001b[39m(url, params\u001b[38;5;241m=\u001b[39m\u001b[38;5;28;01mNone\u001b[39;00m, \u001b[38;5;241m*\u001b[39m\u001b[38;5;241m*\u001b[39mkwargs):\n\u001b[1;32m     63\u001b[0m \u001b[38;5;250m    \u001b[39m\u001b[38;5;124mr\u001b[39m\u001b[38;5;124;03m\"\"\"Sends a GET request.\u001b[39;00m\n\u001b[1;32m     64\u001b[0m \n\u001b[1;32m     65\u001b[0m \u001b[38;5;124;03m    :param url: URL for the new :class:`Request` object.\u001b[39;00m\n\u001b[0;32m   (...)\u001b[0m\n\u001b[1;32m     70\u001b[0m \u001b[38;5;124;03m    :rtype: requests.Response\u001b[39;00m\n\u001b[1;32m     71\u001b[0m \u001b[38;5;124;03m    \"\"\"\u001b[39;00m\n\u001b[0;32m---> 73\u001b[0m     \u001b[38;5;28;01mreturn\u001b[39;00m request(\u001b[38;5;124m\"\u001b[39m\u001b[38;5;124mget\u001b[39m\u001b[38;5;124m\"\u001b[39m, url, params\u001b[38;5;241m=\u001b[39mparams, \u001b[38;5;241m*\u001b[39m\u001b[38;5;241m*\u001b[39mkwargs)\n",
      "File \u001b[0;32m~/anaconda3/envs/stats/lib/python3.12/site-packages/requests/api.py:59\u001b[0m, in \u001b[0;36mrequest\u001b[0;34m(method, url, **kwargs)\u001b[0m\n\u001b[1;32m     55\u001b[0m \u001b[38;5;66;03m# By using the 'with' statement we are sure the session is closed, thus we\u001b[39;00m\n\u001b[1;32m     56\u001b[0m \u001b[38;5;66;03m# avoid leaving sockets open which can trigger a ResourceWarning in some\u001b[39;00m\n\u001b[1;32m     57\u001b[0m \u001b[38;5;66;03m# cases, and look like a memory leak in others.\u001b[39;00m\n\u001b[1;32m     58\u001b[0m \u001b[38;5;28;01mwith\u001b[39;00m sessions\u001b[38;5;241m.\u001b[39mSession() \u001b[38;5;28;01mas\u001b[39;00m session:\n\u001b[0;32m---> 59\u001b[0m     \u001b[38;5;28;01mreturn\u001b[39;00m session\u001b[38;5;241m.\u001b[39mrequest(method\u001b[38;5;241m=\u001b[39mmethod, url\u001b[38;5;241m=\u001b[39murl, \u001b[38;5;241m*\u001b[39m\u001b[38;5;241m*\u001b[39mkwargs)\n",
      "File \u001b[0;32m~/anaconda3/envs/stats/lib/python3.12/site-packages/requests/sessions.py:589\u001b[0m, in \u001b[0;36mSession.request\u001b[0;34m(self, method, url, params, data, headers, cookies, files, auth, timeout, allow_redirects, proxies, hooks, stream, verify, cert, json)\u001b[0m\n\u001b[1;32m    584\u001b[0m send_kwargs \u001b[38;5;241m=\u001b[39m {\n\u001b[1;32m    585\u001b[0m     \u001b[38;5;124m\"\u001b[39m\u001b[38;5;124mtimeout\u001b[39m\u001b[38;5;124m\"\u001b[39m: timeout,\n\u001b[1;32m    586\u001b[0m     \u001b[38;5;124m\"\u001b[39m\u001b[38;5;124mallow_redirects\u001b[39m\u001b[38;5;124m\"\u001b[39m: allow_redirects,\n\u001b[1;32m    587\u001b[0m }\n\u001b[1;32m    588\u001b[0m send_kwargs\u001b[38;5;241m.\u001b[39mupdate(settings)\n\u001b[0;32m--> 589\u001b[0m resp \u001b[38;5;241m=\u001b[39m \u001b[38;5;28mself\u001b[39m\u001b[38;5;241m.\u001b[39msend(prep, \u001b[38;5;241m*\u001b[39m\u001b[38;5;241m*\u001b[39msend_kwargs)\n\u001b[1;32m    591\u001b[0m \u001b[38;5;28;01mreturn\u001b[39;00m resp\n",
      "File \u001b[0;32m~/anaconda3/envs/stats/lib/python3.12/site-packages/requests/sessions.py:724\u001b[0m, in \u001b[0;36mSession.send\u001b[0;34m(self, request, **kwargs)\u001b[0m\n\u001b[1;32m    721\u001b[0m \u001b[38;5;28;01mif\u001b[39;00m allow_redirects:\n\u001b[1;32m    722\u001b[0m     \u001b[38;5;66;03m# Redirect resolving generator.\u001b[39;00m\n\u001b[1;32m    723\u001b[0m     gen \u001b[38;5;241m=\u001b[39m \u001b[38;5;28mself\u001b[39m\u001b[38;5;241m.\u001b[39mresolve_redirects(r, request, \u001b[38;5;241m*\u001b[39m\u001b[38;5;241m*\u001b[39mkwargs)\n\u001b[0;32m--> 724\u001b[0m     history \u001b[38;5;241m=\u001b[39m [resp \u001b[38;5;28;01mfor\u001b[39;00m resp \u001b[38;5;129;01min\u001b[39;00m gen]\n\u001b[1;32m    725\u001b[0m \u001b[38;5;28;01melse\u001b[39;00m:\n\u001b[1;32m    726\u001b[0m     history \u001b[38;5;241m=\u001b[39m []\n",
      "File \u001b[0;32m~/anaconda3/envs/stats/lib/python3.12/site-packages/requests/sessions.py:265\u001b[0m, in \u001b[0;36mSessionRedirectMixin.resolve_redirects\u001b[0;34m(self, resp, req, stream, timeout, verify, cert, proxies, yield_requests, **adapter_kwargs)\u001b[0m\n\u001b[1;32m    263\u001b[0m     \u001b[38;5;28;01myield\u001b[39;00m req\n\u001b[1;32m    264\u001b[0m \u001b[38;5;28;01melse\u001b[39;00m:\n\u001b[0;32m--> 265\u001b[0m     resp \u001b[38;5;241m=\u001b[39m \u001b[38;5;28mself\u001b[39m\u001b[38;5;241m.\u001b[39msend(\n\u001b[1;32m    266\u001b[0m         req,\n\u001b[1;32m    267\u001b[0m         stream\u001b[38;5;241m=\u001b[39mstream,\n\u001b[1;32m    268\u001b[0m         timeout\u001b[38;5;241m=\u001b[39mtimeout,\n\u001b[1;32m    269\u001b[0m         verify\u001b[38;5;241m=\u001b[39mverify,\n\u001b[1;32m    270\u001b[0m         cert\u001b[38;5;241m=\u001b[39mcert,\n\u001b[1;32m    271\u001b[0m         proxies\u001b[38;5;241m=\u001b[39mproxies,\n\u001b[1;32m    272\u001b[0m         allow_redirects\u001b[38;5;241m=\u001b[39m\u001b[38;5;28;01mFalse\u001b[39;00m,\n\u001b[1;32m    273\u001b[0m         \u001b[38;5;241m*\u001b[39m\u001b[38;5;241m*\u001b[39madapter_kwargs,\n\u001b[1;32m    274\u001b[0m     )\n\u001b[1;32m    276\u001b[0m     extract_cookies_to_jar(\u001b[38;5;28mself\u001b[39m\u001b[38;5;241m.\u001b[39mcookies, prepared_request, resp\u001b[38;5;241m.\u001b[39mraw)\n\u001b[1;32m    278\u001b[0m     \u001b[38;5;66;03m# extract redirect url, if any, for the next loop\u001b[39;00m\n",
      "File \u001b[0;32m~/anaconda3/envs/stats/lib/python3.12/site-packages/requests/sessions.py:703\u001b[0m, in \u001b[0;36mSession.send\u001b[0;34m(self, request, **kwargs)\u001b[0m\n\u001b[1;32m    700\u001b[0m start \u001b[38;5;241m=\u001b[39m preferred_clock()\n\u001b[1;32m    702\u001b[0m \u001b[38;5;66;03m# Send the request\u001b[39;00m\n\u001b[0;32m--> 703\u001b[0m r \u001b[38;5;241m=\u001b[39m adapter\u001b[38;5;241m.\u001b[39msend(request, \u001b[38;5;241m*\u001b[39m\u001b[38;5;241m*\u001b[39mkwargs)\n\u001b[1;32m    705\u001b[0m \u001b[38;5;66;03m# Total elapsed time of the request (approximately)\u001b[39;00m\n\u001b[1;32m    706\u001b[0m elapsed \u001b[38;5;241m=\u001b[39m preferred_clock() \u001b[38;5;241m-\u001b[39m start\n",
      "File \u001b[0;32m~/anaconda3/envs/stats/lib/python3.12/site-packages/requests/adapters.py:589\u001b[0m, in \u001b[0;36mHTTPAdapter.send\u001b[0;34m(self, request, stream, timeout, verify, cert, proxies)\u001b[0m\n\u001b[1;32m    586\u001b[0m     timeout \u001b[38;5;241m=\u001b[39m TimeoutSauce(connect\u001b[38;5;241m=\u001b[39mtimeout, read\u001b[38;5;241m=\u001b[39mtimeout)\n\u001b[1;32m    588\u001b[0m \u001b[38;5;28;01mtry\u001b[39;00m:\n\u001b[0;32m--> 589\u001b[0m     resp \u001b[38;5;241m=\u001b[39m conn\u001b[38;5;241m.\u001b[39murlopen(\n\u001b[1;32m    590\u001b[0m         method\u001b[38;5;241m=\u001b[39mrequest\u001b[38;5;241m.\u001b[39mmethod,\n\u001b[1;32m    591\u001b[0m         url\u001b[38;5;241m=\u001b[39murl,\n\u001b[1;32m    592\u001b[0m         body\u001b[38;5;241m=\u001b[39mrequest\u001b[38;5;241m.\u001b[39mbody,\n\u001b[1;32m    593\u001b[0m         headers\u001b[38;5;241m=\u001b[39mrequest\u001b[38;5;241m.\u001b[39mheaders,\n\u001b[1;32m    594\u001b[0m         redirect\u001b[38;5;241m=\u001b[39m\u001b[38;5;28;01mFalse\u001b[39;00m,\n\u001b[1;32m    595\u001b[0m         assert_same_host\u001b[38;5;241m=\u001b[39m\u001b[38;5;28;01mFalse\u001b[39;00m,\n\u001b[1;32m    596\u001b[0m         preload_content\u001b[38;5;241m=\u001b[39m\u001b[38;5;28;01mFalse\u001b[39;00m,\n\u001b[1;32m    597\u001b[0m         decode_content\u001b[38;5;241m=\u001b[39m\u001b[38;5;28;01mFalse\u001b[39;00m,\n\u001b[1;32m    598\u001b[0m         retries\u001b[38;5;241m=\u001b[39m\u001b[38;5;28mself\u001b[39m\u001b[38;5;241m.\u001b[39mmax_retries,\n\u001b[1;32m    599\u001b[0m         timeout\u001b[38;5;241m=\u001b[39mtimeout,\n\u001b[1;32m    600\u001b[0m         chunked\u001b[38;5;241m=\u001b[39mchunked,\n\u001b[1;32m    601\u001b[0m     )\n\u001b[1;32m    603\u001b[0m \u001b[38;5;28;01mexcept\u001b[39;00m (ProtocolError, \u001b[38;5;167;01mOSError\u001b[39;00m) \u001b[38;5;28;01mas\u001b[39;00m err:\n\u001b[1;32m    604\u001b[0m     \u001b[38;5;28;01mraise\u001b[39;00m \u001b[38;5;167;01mConnectionError\u001b[39;00m(err, request\u001b[38;5;241m=\u001b[39mrequest)\n",
      "File \u001b[0;32m~/anaconda3/envs/stats/lib/python3.12/site-packages/urllib3/connectionpool.py:789\u001b[0m, in \u001b[0;36mHTTPConnectionPool.urlopen\u001b[0;34m(self, method, url, body, headers, retries, redirect, assert_same_host, timeout, pool_timeout, release_conn, chunked, body_pos, preload_content, decode_content, **response_kw)\u001b[0m\n\u001b[1;32m    786\u001b[0m response_conn \u001b[38;5;241m=\u001b[39m conn \u001b[38;5;28;01mif\u001b[39;00m \u001b[38;5;129;01mnot\u001b[39;00m release_conn \u001b[38;5;28;01melse\u001b[39;00m \u001b[38;5;28;01mNone\u001b[39;00m\n\u001b[1;32m    788\u001b[0m \u001b[38;5;66;03m# Make the request on the HTTPConnection object\u001b[39;00m\n\u001b[0;32m--> 789\u001b[0m response \u001b[38;5;241m=\u001b[39m \u001b[38;5;28mself\u001b[39m\u001b[38;5;241m.\u001b[39m_make_request(\n\u001b[1;32m    790\u001b[0m     conn,\n\u001b[1;32m    791\u001b[0m     method,\n\u001b[1;32m    792\u001b[0m     url,\n\u001b[1;32m    793\u001b[0m     timeout\u001b[38;5;241m=\u001b[39mtimeout_obj,\n\u001b[1;32m    794\u001b[0m     body\u001b[38;5;241m=\u001b[39mbody,\n\u001b[1;32m    795\u001b[0m     headers\u001b[38;5;241m=\u001b[39mheaders,\n\u001b[1;32m    796\u001b[0m     chunked\u001b[38;5;241m=\u001b[39mchunked,\n\u001b[1;32m    797\u001b[0m     retries\u001b[38;5;241m=\u001b[39mretries,\n\u001b[1;32m    798\u001b[0m     response_conn\u001b[38;5;241m=\u001b[39mresponse_conn,\n\u001b[1;32m    799\u001b[0m     preload_content\u001b[38;5;241m=\u001b[39mpreload_content,\n\u001b[1;32m    800\u001b[0m     decode_content\u001b[38;5;241m=\u001b[39mdecode_content,\n\u001b[1;32m    801\u001b[0m     \u001b[38;5;241m*\u001b[39m\u001b[38;5;241m*\u001b[39mresponse_kw,\n\u001b[1;32m    802\u001b[0m )\n\u001b[1;32m    804\u001b[0m \u001b[38;5;66;03m# Everything went great!\u001b[39;00m\n\u001b[1;32m    805\u001b[0m clean_exit \u001b[38;5;241m=\u001b[39m \u001b[38;5;28;01mTrue\u001b[39;00m\n",
      "File \u001b[0;32m~/anaconda3/envs/stats/lib/python3.12/site-packages/urllib3/connectionpool.py:536\u001b[0m, in \u001b[0;36mHTTPConnectionPool._make_request\u001b[0;34m(self, conn, method, url, body, headers, retries, timeout, chunked, response_conn, preload_content, decode_content, enforce_content_length)\u001b[0m\n\u001b[1;32m    534\u001b[0m \u001b[38;5;66;03m# Receive the response from the server\u001b[39;00m\n\u001b[1;32m    535\u001b[0m \u001b[38;5;28;01mtry\u001b[39;00m:\n\u001b[0;32m--> 536\u001b[0m     response \u001b[38;5;241m=\u001b[39m conn\u001b[38;5;241m.\u001b[39mgetresponse()\n\u001b[1;32m    537\u001b[0m \u001b[38;5;28;01mexcept\u001b[39;00m (BaseSSLError, \u001b[38;5;167;01mOSError\u001b[39;00m) \u001b[38;5;28;01mas\u001b[39;00m e:\n\u001b[1;32m    538\u001b[0m     \u001b[38;5;28mself\u001b[39m\u001b[38;5;241m.\u001b[39m_raise_timeout(err\u001b[38;5;241m=\u001b[39me, url\u001b[38;5;241m=\u001b[39murl, timeout_value\u001b[38;5;241m=\u001b[39mread_timeout)\n",
      "File \u001b[0;32m~/anaconda3/envs/stats/lib/python3.12/site-packages/urllib3/connection.py:464\u001b[0m, in \u001b[0;36mHTTPConnection.getresponse\u001b[0;34m(self)\u001b[0m\n\u001b[1;32m    461\u001b[0m \u001b[38;5;28;01mfrom\u001b[39;00m \u001b[38;5;21;01m.\u001b[39;00m\u001b[38;5;21;01mresponse\u001b[39;00m \u001b[38;5;28;01mimport\u001b[39;00m HTTPResponse\n\u001b[1;32m    463\u001b[0m \u001b[38;5;66;03m# Get the response from http.client.HTTPConnection\u001b[39;00m\n\u001b[0;32m--> 464\u001b[0m httplib_response \u001b[38;5;241m=\u001b[39m \u001b[38;5;28msuper\u001b[39m()\u001b[38;5;241m.\u001b[39mgetresponse()\n\u001b[1;32m    466\u001b[0m \u001b[38;5;28;01mtry\u001b[39;00m:\n\u001b[1;32m    467\u001b[0m     assert_header_parsing(httplib_response\u001b[38;5;241m.\u001b[39mmsg)\n",
      "File \u001b[0;32m~/anaconda3/envs/stats/lib/python3.12/http/client.py:1428\u001b[0m, in \u001b[0;36mHTTPConnection.getresponse\u001b[0;34m(self)\u001b[0m\n\u001b[1;32m   1426\u001b[0m \u001b[38;5;28;01mtry\u001b[39;00m:\n\u001b[1;32m   1427\u001b[0m     \u001b[38;5;28;01mtry\u001b[39;00m:\n\u001b[0;32m-> 1428\u001b[0m         response\u001b[38;5;241m.\u001b[39mbegin()\n\u001b[1;32m   1429\u001b[0m     \u001b[38;5;28;01mexcept\u001b[39;00m \u001b[38;5;167;01mConnectionError\u001b[39;00m:\n\u001b[1;32m   1430\u001b[0m         \u001b[38;5;28mself\u001b[39m\u001b[38;5;241m.\u001b[39mclose()\n",
      "File \u001b[0;32m~/anaconda3/envs/stats/lib/python3.12/http/client.py:331\u001b[0m, in \u001b[0;36mHTTPResponse.begin\u001b[0;34m(self)\u001b[0m\n\u001b[1;32m    329\u001b[0m \u001b[38;5;66;03m# read until we get a non-100 response\u001b[39;00m\n\u001b[1;32m    330\u001b[0m \u001b[38;5;28;01mwhile\u001b[39;00m \u001b[38;5;28;01mTrue\u001b[39;00m:\n\u001b[0;32m--> 331\u001b[0m     version, status, reason \u001b[38;5;241m=\u001b[39m \u001b[38;5;28mself\u001b[39m\u001b[38;5;241m.\u001b[39m_read_status()\n\u001b[1;32m    332\u001b[0m     \u001b[38;5;28;01mif\u001b[39;00m status \u001b[38;5;241m!=\u001b[39m CONTINUE:\n\u001b[1;32m    333\u001b[0m         \u001b[38;5;28;01mbreak\u001b[39;00m\n",
      "File \u001b[0;32m~/anaconda3/envs/stats/lib/python3.12/http/client.py:292\u001b[0m, in \u001b[0;36mHTTPResponse._read_status\u001b[0;34m(self)\u001b[0m\n\u001b[1;32m    291\u001b[0m \u001b[38;5;28;01mdef\u001b[39;00m \u001b[38;5;21m_read_status\u001b[39m(\u001b[38;5;28mself\u001b[39m):\n\u001b[0;32m--> 292\u001b[0m     line \u001b[38;5;241m=\u001b[39m \u001b[38;5;28mstr\u001b[39m(\u001b[38;5;28mself\u001b[39m\u001b[38;5;241m.\u001b[39mfp\u001b[38;5;241m.\u001b[39mreadline(_MAXLINE \u001b[38;5;241m+\u001b[39m \u001b[38;5;241m1\u001b[39m), \u001b[38;5;124m\"\u001b[39m\u001b[38;5;124miso-8859-1\u001b[39m\u001b[38;5;124m\"\u001b[39m)\n\u001b[1;32m    293\u001b[0m     \u001b[38;5;28;01mif\u001b[39;00m \u001b[38;5;28mlen\u001b[39m(line) \u001b[38;5;241m>\u001b[39m _MAXLINE:\n\u001b[1;32m    294\u001b[0m         \u001b[38;5;28;01mraise\u001b[39;00m LineTooLong(\u001b[38;5;124m\"\u001b[39m\u001b[38;5;124mstatus line\u001b[39m\u001b[38;5;124m\"\u001b[39m)\n",
      "File \u001b[0;32m~/anaconda3/envs/stats/lib/python3.12/socket.py:708\u001b[0m, in \u001b[0;36mSocketIO.readinto\u001b[0;34m(self, b)\u001b[0m\n\u001b[1;32m    706\u001b[0m \u001b[38;5;28;01mwhile\u001b[39;00m \u001b[38;5;28;01mTrue\u001b[39;00m:\n\u001b[1;32m    707\u001b[0m     \u001b[38;5;28;01mtry\u001b[39;00m:\n\u001b[0;32m--> 708\u001b[0m         \u001b[38;5;28;01mreturn\u001b[39;00m \u001b[38;5;28mself\u001b[39m\u001b[38;5;241m.\u001b[39m_sock\u001b[38;5;241m.\u001b[39mrecv_into(b)\n\u001b[1;32m    709\u001b[0m     \u001b[38;5;28;01mexcept\u001b[39;00m timeout:\n\u001b[1;32m    710\u001b[0m         \u001b[38;5;28mself\u001b[39m\u001b[38;5;241m.\u001b[39m_timeout_occurred \u001b[38;5;241m=\u001b[39m \u001b[38;5;28;01mTrue\u001b[39;00m\n",
      "File \u001b[0;32m~/anaconda3/envs/stats/lib/python3.12/ssl.py:1252\u001b[0m, in \u001b[0;36mSSLSocket.recv_into\u001b[0;34m(self, buffer, nbytes, flags)\u001b[0m\n\u001b[1;32m   1248\u001b[0m     \u001b[38;5;28;01mif\u001b[39;00m flags \u001b[38;5;241m!=\u001b[39m \u001b[38;5;241m0\u001b[39m:\n\u001b[1;32m   1249\u001b[0m         \u001b[38;5;28;01mraise\u001b[39;00m \u001b[38;5;167;01mValueError\u001b[39;00m(\n\u001b[1;32m   1250\u001b[0m           \u001b[38;5;124m\"\u001b[39m\u001b[38;5;124mnon-zero flags not allowed in calls to recv_into() on \u001b[39m\u001b[38;5;132;01m%s\u001b[39;00m\u001b[38;5;124m\"\u001b[39m \u001b[38;5;241m%\u001b[39m\n\u001b[1;32m   1251\u001b[0m           \u001b[38;5;28mself\u001b[39m\u001b[38;5;241m.\u001b[39m\u001b[38;5;18m__class__\u001b[39m)\n\u001b[0;32m-> 1252\u001b[0m     \u001b[38;5;28;01mreturn\u001b[39;00m \u001b[38;5;28mself\u001b[39m\u001b[38;5;241m.\u001b[39mread(nbytes, buffer)\n\u001b[1;32m   1253\u001b[0m \u001b[38;5;28;01melse\u001b[39;00m:\n\u001b[1;32m   1254\u001b[0m     \u001b[38;5;28;01mreturn\u001b[39;00m \u001b[38;5;28msuper\u001b[39m()\u001b[38;5;241m.\u001b[39mrecv_into(buffer, nbytes, flags)\n",
      "File \u001b[0;32m~/anaconda3/envs/stats/lib/python3.12/ssl.py:1104\u001b[0m, in \u001b[0;36mSSLSocket.read\u001b[0;34m(self, len, buffer)\u001b[0m\n\u001b[1;32m   1102\u001b[0m \u001b[38;5;28;01mtry\u001b[39;00m:\n\u001b[1;32m   1103\u001b[0m     \u001b[38;5;28;01mif\u001b[39;00m buffer \u001b[38;5;129;01mis\u001b[39;00m \u001b[38;5;129;01mnot\u001b[39;00m \u001b[38;5;28;01mNone\u001b[39;00m:\n\u001b[0;32m-> 1104\u001b[0m         \u001b[38;5;28;01mreturn\u001b[39;00m \u001b[38;5;28mself\u001b[39m\u001b[38;5;241m.\u001b[39m_sslobj\u001b[38;5;241m.\u001b[39mread(\u001b[38;5;28mlen\u001b[39m, buffer)\n\u001b[1;32m   1105\u001b[0m     \u001b[38;5;28;01melse\u001b[39;00m:\n\u001b[1;32m   1106\u001b[0m         \u001b[38;5;28;01mreturn\u001b[39;00m \u001b[38;5;28mself\u001b[39m\u001b[38;5;241m.\u001b[39m_sslobj\u001b[38;5;241m.\u001b[39mread(\u001b[38;5;28mlen\u001b[39m)\n",
      "\u001b[0;31mKeyboardInterrupt\u001b[0m: "
     ]
    }
   ],
   "source": [
    "\n",
    "#testing the call\n",
    "# fic_id=32262178 should be access denied\n",
    "#fic_id=61766950 #should be allowed\n",
    "#fic_id=33751156 #utsdih\n",
    "fic_id=61766950 #to the world\n",
    "#fic_id=12005586 #rwm\n",
    "# ahot https://archiveofourown.org/works/30248028\n",
    "scrape_from_ao3(fic_id)\n",
    "\n",
    "# have saved metas: rwm_soup, rwm_meta,ahot_soup,ahot_meta,utsdih_soup,utsdih_meta"
   ]
  },
  {
   "cell_type": "code",
   "execution_count": 275,
   "id": "f9e3146d-34df-4c90-ad93-f9e03ecf8fd8",
   "metadata": {},
   "outputs": [
    {
     "name": "stdout",
     "output_type": "stream",
     "text": [
      "Stored 'ahot_soup' (BeautifulSoup)\n",
      "Stored 'utsdih_soup' (BeautifulSoup)\n",
      "Stored 'rwm_soup' (BeautifulSoup)\n"
     ]
    }
   ],
   "source": [
    "# store things\n",
    "\n",
    "%store ahot_soup\n",
    "%store utsdih_soup\n",
    "%store rwm_soup"
   ]
  },
  {
   "cell_type": "code",
   "execution_count": 45,
   "id": "986c1592-3cbe-45ea-a0b1-7d46d902c779",
   "metadata": {},
   "outputs": [],
   "source": [
    "## Write metadata to csv\n",
    "# In a folder called Data with a file called data_csv.csv\n",
    "def csv_writer(meta_dict):\n",
    "    dir_path=\"./Data\"\n",
    "    file_name=\"data_csv.csv\"\n",
    "    dir_exists=os.path.exists(dir_path)\n",
    "    #check if directory exists\n",
    "    if not dir_exists:\n",
    "        os.makedirs(dir_path)\n",
    "    \n",
    "    file_exists=os.path.exists(dir_path+\"/\"+file_name)\n",
    "    \n",
    "    with open(dir_path+\"/\"+file_name,\"a\") as data_f:\n",
    "        data_w=csv.DictWriter(data_f,meta_dict.keys())\n",
    "        if not file_exists: data_w.writeheader()\n",
    "        data_w.writerow(meta_dict)\n"
   ]
  },
  {
   "cell_type": "markdown",
   "id": "0059fae4-0db0-45e2-af1c-12df0348c36b",
   "metadata": {},
   "source": [
    "# GUI"
   ]
  },
  {
   "cell_type": "code",
   "execution_count": null,
   "id": "bc9fdc5f-8a35-4a9f-9039-d0ff313e0de6",
   "metadata": {},
   "outputs": [],
   "source": [
    "from nicegui import ui"
   ]
  },
  {
   "cell_type": "code",
   "execution_count": 2,
   "id": "e8797ff4-143f-41a7-a37d-7fda61466fed",
   "metadata": {},
   "outputs": [
    {
     "data": {
      "text/plain": [
       "<nicegui.elements.label.Label at 0x7fd1745794f0>"
      ]
     },
     "execution_count": 2,
     "metadata": {},
     "output_type": "execute_result"
    }
   ],
   "source": [
    "ui.label('Hello NiceGUI!')"
   ]
  },
  {
   "cell_type": "code",
   "execution_count": null,
   "id": "063fcb85-48f1-4b96-85e1-078c57d03fec",
   "metadata": {},
   "outputs": [],
   "source": []
  }
 ],
 "metadata": {
  "kernelspec": {
   "display_name": "Python 3 (ipykernel)",
   "language": "python",
   "name": "python3"
  },
  "language_info": {
   "codemirror_mode": {
    "name": "ipython",
    "version": 3
   },
   "file_extension": ".py",
   "mimetype": "text/x-python",
   "name": "python",
   "nbconvert_exporter": "python",
   "pygments_lexer": "ipython3",
   "version": "3.12.4"
  }
 },
 "nbformat": 4,
 "nbformat_minor": 5
}
